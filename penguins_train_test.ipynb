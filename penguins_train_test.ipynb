{
 "cells": [
  {
   "cell_type": "code",
   "execution_count": 5,
   "id": "f43c9deb-b2bf-44f2-a18d-01032e322de0",
   "metadata": {
    "tags": []
   },
   "outputs": [
    {
     "name": "stdout",
     "output_type": "stream",
     "text": [
      "Intercept (beta_0): -4019.226873849506\n",
      "Coefficients (beta_1, beta_2, ..., beta_p):\n",
      "bill_length_mm: 44.71586096597852\n",
      "bill_depth_mm: 128.80762092658472\n",
      "flipper_length_mm: 19.682746969347136\n",
      "species_Adelie: -137.64532528285824\n",
      "species_Chinstrap: -649.164486080333\n",
      "species_Gentoo: 786.8098113631904\n",
      "MSE: 80219.8670848893\n",
      "R-squared (R2): 0.8814019970610809\n"
     ]
    }
   ],
   "source": [
    "import pandas as pd\n",
    "from sklearn.model_selection import train_test_split\n",
    "from sklearn.linear_model import LinearRegression\n",
    "from sklearn.metrics import mean_squared_error, r2_score\n",
    "from sklearn.preprocessing import OneHotEncoder\n",
    "\n",
    "# Load dataset (insert File Directory)\n",
    "data = pd.read_csv('project2/penguins.csv')\n",
    "\n",
    "# dropping NA's\n",
    "penguins_clean = data.dropna()\n",
    "penguins_clean.to_csv('penguins_clean.csv')\n",
    "\n",
    "# Training Prep\n",
    "X = penguins_clean.drop(['body_mass_g', 'island', 'sex'], axis=1)  # Exclude 'island' and 'sex' columns\n",
    "y = penguins_clean['body_mass_g']\n",
    "\n",
    "# encode dummy variables for X\n",
    "X = pd.get_dummies(X)\n",
    "\n",
    "# Splitting the dataset into the Training set and Test set\n",
    "X_train, X_test, y_train, y_test = train_test_split(X, y, test_size=0.3, random_state=0)  # test size 30%, train size 70%\n",
    "\n",
    "# Training\n",
    "regressor = LinearRegression()\n",
    "regressor.fit(X_train, y_train)\n",
    "\n",
    "# Extracting coefficients and intercept\n",
    "intercept = regressor.intercept_\n",
    "coefficients = regressor.coef_\n",
    "\n",
    "# Printing intercept and coefficients\n",
    "print(f\"Intercept (beta_0): {intercept}\")\n",
    "print(\"Coefficients (beta_1, beta_2, ..., beta_p):\")\n",
    "for feature, coef in zip(X.columns, coefficients):\n",
    "    print(f\"{feature}: {coef}\")\n",
    "\n",
    "# Predictions\n",
    "y_pred = regressor.predict(X_test)\n",
    "\n",
    "# Evaluators\n",
    "mse = mean_squared_error(y_test, y_pred)\n",
    "r2 = r2_score(y_test, y_pred)\n",
    "\n",
    "print(f\"MSE: {mse}\")\n",
    "print(f\"R-squared (R2): {r2}\")\n"
   ]
  },
  {
   "cell_type": "code",
   "execution_count": null,
   "id": "39186dcb-abcd-46bc-960f-eeb29d57bef4",
   "metadata": {},
   "outputs": [],
   "source": []
  }
 ],
 "metadata": {
  "kernelspec": {
   "display_name": "Python 3 (ipykernel)",
   "language": "python",
   "name": "python3"
  },
  "language_info": {
   "codemirror_mode": {
    "name": "ipython",
    "version": 3
   },
   "file_extension": ".py",
   "mimetype": "text/x-python",
   "name": "python",
   "nbconvert_exporter": "python",
   "pygments_lexer": "ipython3",
   "version": "3.11.5"
  }
 },
 "nbformat": 4,
 "nbformat_minor": 5
}
